{
 "cells": [
  {
   "cell_type": "code",
   "execution_count": 5,
   "metadata": {},
   "outputs": [
    {
     "name": "stdout",
     "output_type": "stream",
     "text": [
      "步驟1: 1 + 2 = 3\n"
     ]
    }
   ],
   "source": [
    "    # 步驟1: 計算 1+2\n",
    "    step1 = 1 + 2\n",
    "    print(f\"步驟1: 1 + 2 = {step1}\")"
   ]
  },
  {
   "cell_type": "code",
   "execution_count": 1,
   "metadata": {},
   "outputs": [
    {
     "name": "stdout",
     "output_type": "stream",
     "text": [
      "6 11\n"
     ]
    }
   ],
   "source": [
    "n=5+1\n",
    "m=n+5\n",
    "print(n,m)"
   ]
  },
  {
   "cell_type": "code",
   "execution_count": 6,
   "metadata": {},
   "outputs": [
    {
     "name": "stdout",
     "output_type": "stream",
     "text": [
      "步驟1: 1 + 2 = 3\n",
      "步驟2: (3)**2 = 9\n",
      "步驟3: 2 * 9 = 18\n",
      "步驟4: 2 * 2**2 = 8\n",
      "最終結果: 18 - 8 = 10\n"
     ]
    }
   ],
   "source": [
    "def show_calculation_steps():\n",
    "    # 步驟1: 計算 1+2\n",
    "    step1 = 1 + 2\n",
    "    print(f\"步驟1: 1 + 2 = {step1}\")\n",
    "    \n",
    "    # 步驟2: 計算 (1+2)**2\n",
    "    step2 = step1 ** 2\n",
    "    print(f\"步驟2: ({step1})**2 = {step2}\")\n",
    "    \n",
    "    # 步驟3: 計算 2*(1+2)**2\n",
    "    step3 = 2 * step2\n",
    "    print(f\"步驟3: 2 * {step2} = {step3}\")\n",
    "    \n",
    "    # 步驟4: 計算 2*2**2\n",
    "    step4 = 2 * (2**2)\n",
    "    print(f\"步驟4: 2 * 2**2 = {step4}\")\n",
    "    \n",
    "    # 最後步驟: 計算 2*(1+2)**2 - 2*2**2\n",
    "    final_result = step3 - step4\n",
    "    print(f\"最終結果: {step3} - {step4} = {final_result}\")\n",
    "\n",
    "# 執行函數\n",
    "show_calculation_steps()"
   ]
  }
 ],
 "metadata": {
  "kernelspec": {
   "display_name": "base",
   "language": "python",
   "name": "python3"
  },
  "language_info": {
   "codemirror_mode": {
    "name": "ipython",
    "version": 3
   },
   "file_extension": ".py",
   "mimetype": "text/x-python",
   "name": "python",
   "nbconvert_exporter": "python",
   "pygments_lexer": "ipython3",
   "version": "3.12.2"
  }
 },
 "nbformat": 4,
 "nbformat_minor": 2
}
