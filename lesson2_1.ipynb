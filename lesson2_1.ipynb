{
 "cells": [
  {
   "cell_type": "code",
   "execution_count": 5,
   "metadata": {},
   "outputs": [
    {
     "name": "stdout",
     "output_type": "stream",
     "text": [
      "步驟1: 1 + 2 = 3\n"
     ]
    }
   ],
   "source": [
    "    # 步驟1: 計算 1+2\n",
    "    step1 = 1 + 2\n",
    "    print(f\"步驟1: 1 + 2 = {step1}\")"
   ]
  },
  {
   "cell_type": "code",
   "execution_count": 1,
   "metadata": {},
   "outputs": [
    {
     "name": "stdout",
     "output_type": "stream",
     "text": [
      "6 11\n"
     ]
    }
   ],
   "source": [
    "n=5+1\n",
    "m=n+5\n",
    "print(n,m)"
   ]
  },
  {
   "cell_type": "code",
   "execution_count": 9,
   "metadata": {},
   "outputs": [
    {
     "name": "stdout",
     "output_type": "stream",
     "text": [
      "X+Y= 11\n"
     ]
    }
   ],
   "source": [
    "x = int(input('請輸入X:'))  \n",
    "y = int(input('請輸入Y:'))\n",
    "print(\"X+Y=\", x + y)"
   ]
  },
  {
   "cell_type": "code",
   "execution_count": 27,
   "metadata": {},
   "outputs": [],
   "source": [
    "\n",
    "x = int(input('請輸入X:'))  \n",
    "y = int(input('請輸入Y:'))\n",
    "with open('output.txt', 'w') as f:\n",
    "    print(\"X+Y=\", x + y, file=f)\n",
    "    print(\"X-Y=\", x - y, file=f)\n",
    "    print(\"X*Y=\", x * y, file=f)\n",
    "    print(\"X/Y=\", x / y, file=f)\n",
    "    print(\"X//Y=\", x // y, file=f)\n",
    "    print(\"X%Y=\", x % y, file=f)\n",
    "    print(\"X**Y=\", x ** y, file=f)\n"
   ]
  },
  {
   "cell_type": "code",
   "execution_count": 28,
   "metadata": {},
   "outputs": [
    {
     "name": "stdout",
     "output_type": "stream",
     "text": [
      "直角三角形斜邊長度為：5.00\n"
     ]
    }
   ],
   "source": [
    "import math\n",
    "\n",
    "# 輸入兩直角邊長度\n",
    "a = float(input('請輸入第一邊長：'))\n",
    "b = float(input('請輸入第二邊長：'))\n",
    "\n",
    "# 計算斜邊 (畢氏定理：a² + b² = c²)\n",
    "c = math.sqrt(a**2 + b**2)\n",
    "\n",
    "# 輸出結果（取小數點後 2 位）\n",
    "print(f\"直角三角形斜邊長度為：{c:.2f}\")"
   ]
  },
  {
   "cell_type": "code",
   "execution_count": 30,
   "metadata": {},
   "outputs": [
    {
     "name": "stdout",
     "output_type": "stream",
     "text": [
      "平均值: 3.0\n",
      "標準差: 1.4142135623730951\n",
      "最大值: 5\n",
      "轉置: [[1 3]\n",
      " [2 4]]\n",
      "行列式: -2.0000000000000004\n"
     ]
    }
   ],
   "source": [
    "import numpy as np\n",
    "\n",
    "# 統計函數\n",
    "data = np.array([1, 2, 3, 4, 5])\n",
    "print(\"平均值:\", np.mean(data))\n",
    "print(\"標準差:\", np.std(data))\n",
    "print(\"最大值:\", np.max(data))\n",
    "\n",
    "# 矩陣運算\n",
    "matrix = np.array([[1, 2], [3, 4]])\n",
    "print(\"轉置:\", matrix.T)\n",
    "print(\"行列式:\", np.linalg.det(matrix))"
   ]
  },
  {
   "cell_type": "code",
   "execution_count": null,
   "metadata": {},
   "outputs": [
    {
     "name": "stdout",
     "output_type": "stream",
     "text": [
      "請輸入數字（按 Enter 鍵直接輸入空白結束）：\n",
      "數列為: [3.0, 5.0, 3.0, 4.0, 6.0, 7.0, 12.0, 15.0]\n",
      "\n",
      "統計結果:\n",
      "平均值: 6.875\n",
      "標準差: 4.106016926414211\n",
      "最大值: 15.0\n",
      "最小值: 3.0\n",
      "總和: 55.0\n"
     ]
    }
   ],
   "source": [
    "import numpy as np\n",
    "\n",
    "# 收集輸入數據\n",
    "numbers = []\n",
    "print(\"請輸入數字（按 Enter 鍵直接輸入空白結束）：\")\n",
    "while True:\n",
    "    user_input = input()\n",
    "    if user_input == \"\":\n",
    "        break\n",
    "    numbers.append(float(user_input))\n",
    "\n",
    "# 轉換為 NumPy 陣列\n",
    "data = np.array(numbers)\n",
    "\n",
    "# 統計運算\n",
    "print(\"數列為:\",numbers)\n",
    "print(\"\\n統計結果:\")\n",
    "print(\"平均值:\", np.mean(data))\n",
    "print(\"標準差:\", np.std(data))\n",
    "print(\"最大值:\", np.max(data))\n",
    "print(\"最小值:\", np.min(data))\n",
    "print(\"總和:\", np.sum(data))\n",
    "print(\"中位數:\", np.median(data))\n",
    "print(\"第一四分位數:\", np.percentile(data, 25))\n",
    "\n"
   ]
  }
 ],
 "metadata": {
  "kernelspec": {
   "display_name": "base",
   "language": "python",
   "name": "python3"
  },
  "language_info": {
   "codemirror_mode": {
    "name": "ipython",
    "version": 3
   },
   "file_extension": ".py",
   "mimetype": "text/x-python",
   "name": "python",
   "nbconvert_exporter": "python",
   "pygments_lexer": "ipython3",
   "version": "3.12.2"
  }
 },
 "nbformat": 4,
 "nbformat_minor": 2
}
