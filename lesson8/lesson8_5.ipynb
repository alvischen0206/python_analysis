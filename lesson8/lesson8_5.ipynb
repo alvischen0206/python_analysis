{
 "cells": [
  {
   "cell_type": "code",
   "execution_count": null,
   "metadata": {},
   "outputs": [
    {
     "name": "stdout",
     "output_type": "stream",
     "text": []
    }
   ],
   "source": [
    "import numpy as np  # 匯入 numpy 模組\n",
    "import pandas as pd  # 匯入 pandas 模組\n",
    "\n",
    "scores = np.random.randint(50, 101, size=(50, 5))  # 生成 50x5 的隨機分數矩陣，範圍在 50 到 100 之間\n",
    "df = pd.DataFrame(scores,  # 將分數矩陣轉換為 DataFrame\n",
    "             columns=['國文', '英文', '數學', '地理', '歷史'],  # 設定欄位名稱\n",
    "             index=range(1,51)  # 設定索引為 1 到 50\n",
    "             )\n",
    "df.index.name = '學號'  # 設定索引名稱為 '學號'\n",
    "df.columns.name = '科目'  # 設定欄位名稱為 '科目'\n",
    "df  # 顯示 DataFrame"
   ]
  },
  {
   "cell_type": "code",
   "execution_count": null,
   "metadata": {},
   "outputs": [],
   "source": [
    "sum_value = df.sum(axis=1)  # 計算每位學生的總分\n",
    "mean_value = df.mean(axis=1)  # 計算每位學生的平均分"
   ]
  },
  {
   "cell_type": "code",
   "execution_count": null,
   "metadata": {},
   "outputs": [],
   "source": [
    "df['總分'] = sum_value  # 將總分加入 DataFrame\n",
    "df['平均'] = mean_value  # 將平均分加入 DataFrame"
   ]
  },
  {
   "cell_type": "code",
   "execution_count": null,
   "metadata": {},
   "outputs": [
    {
     "name": "stdout",
     "output_type": "stream",
     "text": []
    }
   ],
   "source": [
    "df1 = df.sort_values(by='總分',ascending=False)  # 按總分降序排列 DataFrame\n",
    "df1  # 顯示排序後的 DataFrame"
   ]
  },
  {
   "cell_type": "code",
   "execution_count": null,
   "metadata": {},
   "outputs": [
    {
     "name": "stdout",
     "output_type": "stream",
     "text": []
    }
   ],
   "source": [
    "rand_value = df1['總分'].rank(ascending=False,method='min')  # 計算每位學生的排名\n",
    "df1['排名'] = rand_value  # 將排名加入 DataFrame\n",
    "df1  # 顯示包含排名的 DataFrame"
   ]
  }
 ],
 "metadata": {
  "kernelspec": {
   "display_name": "Python 3",
   "language": "python",
   "name": "python3"
  },
  "language_info": {
   "codemirror_mode": {
    "name": "ipython",
    "version": 3
   },
   "file_extension": ".py",
   "mimetype": "text/x-python",
   "name": "python",
   "nbconvert_exporter": "python",
   "pygments_lexer": "ipython3",
   "version": "3.12.7"
  }
 },
 "nbformat": 4,
 "nbformat_minor": 2
}
