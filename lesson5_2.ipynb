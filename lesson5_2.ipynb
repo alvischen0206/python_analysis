{
 "cells": [
  {
   "cell_type": "code",
   "execution_count": 2,
   "metadata": {},
   "outputs": [
    {
     "name": "stdout",
     "output_type": "stream",
     "text": [
      "原始分數：[78, 69, 65]\n",
      "加分後：[81, 72, 68]\n"
     ]
    }
   ],
   "source": [
    "scores = [78, 69, 65]\n",
    "new_scores = [score + 3 for score in scores]\n",
    "print(f\"原始分數：{scores}\")\n",
    "print(f\"加分後：{new_scores}\")"
   ]
  },
  {
   "cell_type": "code",
   "execution_count": 3,
   "metadata": {},
   "outputs": [
    {
     "name": "stdout",
     "output_type": "stream",
     "text": [
      "原始分數：[78, 69, 65]\n",
      "加分後：[81, 72, 68]\n"
     ]
    }
   ],
   "source": [
    "scores = [78, 69, 65]\n",
    "new_scores = []\n",
    "for score in scores:\n",
    "    new_scores.append(score + 3)\n",
    "print(f\"原始分數：{scores}\")\n",
    "print(f\"加分後：{new_scores}\")"
   ]
  },
  {
   "cell_type": "code",
   "execution_count": 1,
   "metadata": {},
   "outputs": [
    {
     "data": {
      "text/plain": [
       "[78, 69, 65, 78, 69, 65]"
      ]
     },
     "execution_count": 1,
     "metadata": {},
     "output_type": "execute_result"
    }
   ],
   "source": [
    "scores = [78, 69, 65]\n",
    "scores * 2\n"
   ]
  },
  {
   "cell_type": "code",
   "execution_count": 2,
   "metadata": {},
   "outputs": [
    {
     "data": {
      "text/plain": [
       "[78, 69, 65, 100, 90, 80]"
      ]
     },
     "execution_count": 2,
     "metadata": {},
     "output_type": "execute_result"
    }
   ],
   "source": [
    "scores = [78, 69, 65]\n",
    "scores + [100, 90, 80]"
   ]
  },
  {
   "cell_type": "code",
   "execution_count": 3,
   "metadata": {},
   "outputs": [
    {
     "name": "stdout",
     "output_type": "stream",
     "text": [
      "<class 'numpy.ndarray'>\n"
     ]
    },
    {
     "data": {
      "text/plain": [
       "array([81, 72, 68])"
      ]
     },
     "execution_count": 3,
     "metadata": {},
     "output_type": "execute_result"
    }
   ],
   "source": [
    "import numpy as np\n",
    "\n",
    "scores = np.array([78, 69, 65])\n",
    "print(type(scores)) # 輸出：<class 'numpy.ndarray'>\n",
    "scores + 3"
   ]
  }
 ],
 "metadata": {
  "kernelspec": {
   "display_name": "Python 3",
   "language": "python",
   "name": "python3"
  },
  "language_info": {
   "codemirror_mode": {
    "name": "ipython",
    "version": 3
   },
   "file_extension": ".py",
   "mimetype": "text/x-python",
   "name": "python",
   "nbconvert_exporter": "python",
   "pygments_lexer": "ipython3",
   "version": "3.12.7"
  }
 },
 "nbformat": 4,
 "nbformat_minor": 2
}
