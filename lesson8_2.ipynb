{
 "cells": [
  {
   "cell_type": "code",
   "execution_count": 1,
   "metadata": {},
   "outputs": [
    {
     "name": "stdout",
     "output_type": "stream",
     "text": [
      "An error occurred: Error tokenizing data. C error: Expected 1 fields in line 4, saw 2\n",
      "\n"
     ]
    }
   ],
   "source": [
    "import pandas as pd\n",
    "\n",
    "# 1. Download the CSV\n",
    "url = 'http://dts.twse.com.tw/opendata/t187ap03_L.csv'\n",
    "try:\n",
    "    df = pd.read_csv(url, encoding='big5')  # Specify encoding for Taiwanese data\n",
    "except Exception as e:\n",
    "    print(f\"An error occurred: {e}\")\n",
    "    df=None\n",
    "# 2. List the Content (if successfully downloaded)\n",
    "if df is not None:\n",
    "    print(\"Content of the CSV:\")\n",
    "    print(df)\n"
   ]
  },
  {
   "cell_type": "code",
   "execution_count": 2,
   "metadata": {},
   "outputs": [
    {
     "name": "stdout",
     "output_type": "stream",
     "text": [
      "Content of the CSV:\n",
      "                           <HTML>\n",
      "0                          <HEAD>\n",
      "1                        <script>\n",
      "2          window.location = url;\n",
      "3                       </script>\n",
      "4          <TITLE>forward</TITLE>\n",
      "5                         </HEAD>\n",
      "6                         </HTML>\n"
     ]
    }
   ],
   "source": [
    "import pandas as pd\n",
    "\n",
    "# 1. Download the CSV, skipping problematic lines\n",
    "url = 'http://dts.twse.com.tw/opendata/t187ap03_L.csv'\n",
    "try:\n",
    "    df = pd.read_csv(url, encoding='big5', skiprows=[3])  # Skip line 4 (index 3)\n",
    "except Exception as e:\n",
    "    print(f\"An error occurred: {e}\")\n",
    "    df = None\n",
    "\n",
    "# 2. List the Content (if successfully downloaded)\n",
    "if df is not None:\n",
    "    print(\"Content of the CSV:\")\n",
    "    print(df)\n"
   ]
  }
 ],
 "metadata": {
  "kernelspec": {
   "display_name": "Python 3",
   "language": "python",
   "name": "python3"
  },
  "language_info": {
   "codemirror_mode": {
    "name": "ipython",
    "version": 3
   },
   "file_extension": ".py",
   "mimetype": "text/x-python",
   "name": "python",
   "nbconvert_exporter": "python",
   "pygments_lexer": "ipython3",
   "version": "3.12.7"
  }
 },
 "nbformat": 4,
 "nbformat_minor": 2
}
