{
 "cells": [
  {
   "cell_type": "code",
   "execution_count": null,
   "metadata": {},
   "outputs": [
    {
     "name": "stdout",
     "output_type": "stream",
     "text": [
      "letter  number\n",
      "A       1         12\n",
      "        2         85\n",
      "        3         98\n",
      "        4         88\n",
      "B       1         78\n",
      "        2         56\n",
      "        3         20\n",
      "        4         49\n",
      "C       1         16\n",
      "        2         95\n",
      "        3         74\n",
      "        4         84\n",
      "D       1         26\n",
      "        2         27\n",
      "        3         25\n",
      "        4         70\n",
      "E       1         87\n",
      "        2         52\n",
      "        3         78\n",
      "        4         99\n",
      "dtype: int32\n"
     ]
    }
   ],
   "source": [
    "import pandas as pd  # 匯入 pandas 模組\n",
    "import numpy as np  # 匯入 numpy 模組\n",
    "\n",
    "values = np.random.randint(1, 101, size=20)  # 修改為12個值，因為3個字母 x 4個數字 = 12個組合\n",
    "index = pd.MultiIndex.from_product([['A', 'B', 'C','D','E'], [1, 2, 3, 4]], names=['letter', 'number'])  # 建立無重複的多重索引\n",
    "s1 = pd.Series(values, index=index)  # 建立具有多重索引的 Series\n",
    "print(s1)  # 輸出 Series"
   ]
  },
  {
   "cell_type": "code",
   "execution_count": 28,
   "metadata": {},
   "outputs": [
    {
     "name": "stdout",
     "output_type": "stream",
     "text": [
      "number   1   2   3   4\n",
      "letter                \n",
      "A       12  85  98  88\n",
      "B       78  56  20  49\n",
      "C       16  95  74  84\n",
      "D       26  27  25  70\n",
      "E       87  52  78  99\n"
     ]
    }
   ],
   "source": [
    "df = s1.unstack(level=\"number\")  # 將多重索引的 Series 轉換為 DataFrame\n",
    "print(df)  # 輸出 DataFrame"
   ]
  },
  {
   "cell_type": "code",
   "execution_count": 31,
   "metadata": {},
   "outputs": [
    {
     "data": {
      "text/plain": [
       "array([[ 0,  1,  2,  3],\n",
       "       [ 4,  5,  6,  7],\n",
       "       [ 8,  9, 10, 11]])"
      ]
     },
     "execution_count": 31,
     "metadata": {},
     "output_type": "execute_result"
    }
   ],
   "source": [
    "np.arange(12).reshape(3, 4)  # 產生 3x4 的陣列  "
   ]
  }
 ],
 "metadata": {
  "kernelspec": {
   "display_name": "Python 3",
   "language": "python",
   "name": "python3"
  },
  "language_info": {
   "codemirror_mode": {
    "name": "ipython",
    "version": 3
   },
   "file_extension": ".py",
   "mimetype": "text/x-python",
   "name": "python",
   "nbconvert_exporter": "python",
   "pygments_lexer": "ipython3",
   "version": "3.12.7"
  }
 },
 "nbformat": 4,
 "nbformat_minor": 2
}
