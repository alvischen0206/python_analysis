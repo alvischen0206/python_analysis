{
 "cells": [
  {
   "cell_type": "code",
   "execution_count": null,
   "metadata": {},
   "outputs": [
    {
     "name": "stdout",
     "output_type": "stream",
     "text": []
    }
   ],
   "source": [
    "import pandas as pd  # 匯入 pandas 模組\n",
    "import numpy as np  # 匯入 numpy 模組\n",
    "\n",
    "values = np.random.randint(1, 101, size=20)  # 修改為12個值，因為3個字母 x 4個數字 = 12個組合\n",
    "index = pd.MultiIndex.from_product([['A', 'B', 'C','D','E'], [1, 2, 3, 4]], names=['letter', 'number'])  # 建立無重複的多重索引\n",
    "s1 = pd.Series(values, index=index)  # 建立具有多重索引的 Series\n",
    "print(s1)  # 輸出 Series"
   ]
  },
  {
   "cell_type": "code",
   "execution_count": 28,
   "metadata": {},
   "outputs": [
    {
     "name": "stdout",
     "output_type": "stream",
     "text": []
    }
   ],
   "source": [
    "df = s1.unstack(level=\"number\")  # 將多重索引的 Series 轉換為 DataFrame\n",
    "print(df)  # 輸出 DataFrame"
   ]
  },
  {
   "cell_type": "code",
   "execution_count": 31,
   "metadata": {},
   "outputs": [
    {
     "data": {},
     "execution_count": 31,
     "metadata": {},
     "output_type": "execute_result"
    }
   ],
   "source": [
    "np.arange(12).reshape(3, 4)  # 產生 3x4 的陣列  "
   ]
  }
 ],
 "metadata": {
  "kernelspec": {
   "display_name": "Python 3",
   "language": "python",
   "name": "python3"
  },
  "language_info": {
   "codemirror_mode": {
    "name": "ipython",
    "version": 3
   },
   "file_extension": ".py",
   "mimetype": "text/x-python",
   "name": "python",
   "nbconvert_exporter": "python",
   "pygments_lexer": "ipython3",
   "version": "3.12.7"
  }
 },
 "nbformat": 4,
 "nbformat_minor": 2
}
