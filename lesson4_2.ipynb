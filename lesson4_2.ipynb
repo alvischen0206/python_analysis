{
 "cells": [
  {
   "cell_type": "code",
   "execution_count": 1,
   "metadata": {},
   "outputs": [
    {
     "data": {
      "text/plain": [
       "<_io.TextIOWrapper name='student.csv' mode='r' encoding='utf-8'>"
      ]
     },
     "execution_count": 1,
     "metadata": {},
     "output_type": "execute_result"
    }
   ],
   "source": [
    "open(file='student.csv')"
   ]
  },
  {
   "cell_type": "code",
   "execution_count": 2,
   "metadata": {},
   "outputs": [
    {
     "data": {
      "text/plain": [
       "<_io.TextIOWrapper name='student.csv' mode='r' encoding='utf-8'>"
      ]
     },
     "execution_count": 2,
     "metadata": {},
     "output_type": "execute_result"
    }
   ],
   "source": [
    "open(file='student.csv',encoding='utf-8',mode='r')  "
   ]
  },
  {
   "cell_type": "code",
   "execution_count": 5,
   "metadata": {},
   "outputs": [],
   "source": [
    "file = open('student.csv', 'r', encoding='utf-8')  \n",
    "type(file)\n",
    "file.close()\n"
   ]
  },
  {
   "cell_type": "code",
   "execution_count": 9,
   "metadata": {},
   "outputs": [
    {
     "name": "stdout",
     "output_type": "stream",
     "text": [
      "name,chinese,english,math,history,health\n",
      "student1,55,79,74,76,62\n",
      "student2,84,93,61,57,81\n",
      "student3,96,63,77,65,94\n",
      "student4,65,93,61,68,99\n",
      "student5,90,61,67,60,57\n",
      "student6,62,74,72,93,55\n",
      "student7,72,54,84,85,65\n",
      "student8,94,75,60,62,80\n",
      "student9,91,95,52,92,56\n",
      "student10,69,94,64,76,100\n",
      "student11,59,51,65,78,68\n",
      "student12,100,78,53,98,57\n",
      "student13,88,54,73,79,89\n",
      "student14,93,56,95,54,89\n",
      "student15,93,66,53,67,87\n",
      "student16,64,68,88,92,95\n",
      "student17,80,84,61,73,79\n",
      "student18,70,95,72,70,92\n",
      "student19,87,50,92,50,95\n",
      "student20,73,65,52,61,79\n",
      "student21,94,66,71,61,99\n",
      "student22,88,96,84,62,60\n",
      "student23,59,70,82,76,59\n",
      "student24,68,90,62,60,90\n",
      "student25,72,57,53,68,70\n",
      "student26,61,82,76,60,89\n",
      "student27,72,91,71,73,66\n",
      "student28,82,62,100,70,88\n",
      "student29,68,91,70,72,99\n",
      "student30,73,85,95,50,80\n",
      "student31,59,99,80,57,85\n",
      "student32,53,99,81,86,100\n",
      "student33,60,82,65,77,99\n",
      "student34,68,84,67,52,59\n",
      "student35,63,86,82,79,58\n",
      "student36,55,78,64,87,66\n",
      "student37,100,71,99,59,88\n",
      "student38,71,89,74,60,73\n",
      "student39,62,64,57,88,77\n",
      "student40,63,77,94,94,72\n",
      "student41,73,96,64,50,77\n",
      "student42,89,84,98,82,74\n",
      "student43,78,85,80,88,85\n",
      "student44,50,82,52,98,70\n",
      "student45,69,96,75,68,71\n",
      "student46,80,95,87,96,86\n",
      "student47,85,99,67,73,91\n",
      "student48,84,55,88,77,100\n",
      "student49,61,61,52,54,51\n",
      "student50,50,71,53,61,82\n",
      "\n"
     ]
    },
    {
     "data": {
      "text/plain": [
       "True"
      ]
     },
     "execution_count": 9,
     "metadata": {},
     "output_type": "execute_result"
    }
   ],
   "source": [
    "with open('student.csv', 'r', encoding='utf-8') as file:\n",
    "    #print(file.read())  \n",
    "    #print(type(file.read()))\n",
    "    content: str = file.read()\n",
    "    print(content)\n",
    "\n",
    "\n",
    "file.closed\n",
    "\n"
   ]
  },
  {
   "cell_type": "code",
   "execution_count": 10,
   "metadata": {},
   "outputs": [
    {
     "name": "stdout",
     "output_type": "stream",
     "text": [
      "[['name', 'chinese', 'english', 'math', 'history', 'health'], ['student1', '55', '79', '74', '76', '62'], ['student2', '84', '93', '61', '57', '81'], ['student3', '96', '63', '77', '65', '94'], ['student4', '65', '93', '61', '68', '99'], ['student5', '90', '61', '67', '60', '57'], ['student6', '62', '74', '72', '93', '55'], ['student7', '72', '54', '84', '85', '65'], ['student8', '94', '75', '60', '62', '80'], ['student9', '91', '95', '52', '92', '56'], ['student10', '69', '94', '64', '76', '100'], ['student11', '59', '51', '65', '78', '68'], ['student12', '100', '78', '53', '98', '57'], ['student13', '88', '54', '73', '79', '89'], ['student14', '93', '56', '95', '54', '89'], ['student15', '93', '66', '53', '67', '87'], ['student16', '64', '68', '88', '92', '95'], ['student17', '80', '84', '61', '73', '79'], ['student18', '70', '95', '72', '70', '92'], ['student19', '87', '50', '92', '50', '95'], ['student20', '73', '65', '52', '61', '79'], ['student21', '94', '66', '71', '61', '99'], ['student22', '88', '96', '84', '62', '60'], ['student23', '59', '70', '82', '76', '59'], ['student24', '68', '90', '62', '60', '90'], ['student25', '72', '57', '53', '68', '70'], ['student26', '61', '82', '76', '60', '89'], ['student27', '72', '91', '71', '73', '66'], ['student28', '82', '62', '100', '70', '88'], ['student29', '68', '91', '70', '72', '99'], ['student30', '73', '85', '95', '50', '80'], ['student31', '59', '99', '80', '57', '85'], ['student32', '53', '99', '81', '86', '100'], ['student33', '60', '82', '65', '77', '99'], ['student34', '68', '84', '67', '52', '59'], ['student35', '63', '86', '82', '79', '58'], ['student36', '55', '78', '64', '87', '66'], ['student37', '100', '71', '99', '59', '88'], ['student38', '71', '89', '74', '60', '73'], ['student39', '62', '64', '57', '88', '77'], ['student40', '63', '77', '94', '94', '72'], ['student41', '73', '96', '64', '50', '77'], ['student42', '89', '84', '98', '82', '74'], ['student43', '78', '85', '80', '88', '85'], ['student44', '50', '82', '52', '98', '70'], ['student45', '69', '96', '75', '68', '71'], ['student46', '80', '95', '87', '96', '86'], ['student47', '85', '99', '67', '73', '91'], ['student48', '84', '55', '88', '77', '100'], ['student49', '61', '61', '52', '54', '51'], ['student50', '50', '71', '53', '61', '82']]\n"
     ]
    }
   ],
   "source": [
    "import csv\n",
    "\n",
    "with open('student.csv', 'r', encoding='utf-8') as file:\n",
    "    csv_reader = csv.reader(file)\n",
    "    content_list = list(csv_reader)  # 轉換成list\n",
    "    print(content_list)"
   ]
  },
  {
   "cell_type": "code",
   "execution_count": 11,
   "metadata": {},
   "outputs": [
    {
     "name": "stdout",
     "output_type": "stream",
     "text": [
      "['name,chinese,english,math,history,health', 'student1,55,79,74,76,62', 'student2,84,93,61,57,81', 'student3,96,63,77,65,94', 'student4,65,93,61,68,99', 'student5,90,61,67,60,57', 'student6,62,74,72,93,55', 'student7,72,54,84,85,65', 'student8,94,75,60,62,80', 'student9,91,95,52,92,56', 'student10,69,94,64,76,100', 'student11,59,51,65,78,68', 'student12,100,78,53,98,57', 'student13,88,54,73,79,89', 'student14,93,56,95,54,89', 'student15,93,66,53,67,87', 'student16,64,68,88,92,95', 'student17,80,84,61,73,79', 'student18,70,95,72,70,92', 'student19,87,50,92,50,95', 'student20,73,65,52,61,79', 'student21,94,66,71,61,99', 'student22,88,96,84,62,60', 'student23,59,70,82,76,59', 'student24,68,90,62,60,90', 'student25,72,57,53,68,70', 'student26,61,82,76,60,89', 'student27,72,91,71,73,66', 'student28,82,62,100,70,88', 'student29,68,91,70,72,99', 'student30,73,85,95,50,80', 'student31,59,99,80,57,85', 'student32,53,99,81,86,100', 'student33,60,82,65,77,99', 'student34,68,84,67,52,59', 'student35,63,86,82,79,58', 'student36,55,78,64,87,66', 'student37,100,71,99,59,88', 'student38,71,89,74,60,73', 'student39,62,64,57,88,77', 'student40,63,77,94,94,72', 'student41,73,96,64,50,77', 'student42,89,84,98,82,74', 'student43,78,85,80,88,85', 'student44,50,82,52,98,70', 'student45,69,96,75,68,71', 'student46,80,95,87,96,86', 'student47,85,99,67,73,91', 'student48,84,55,88,77,100', 'student49,61,61,52,54,51', 'student50,50,71,53,61,82']\n"
     ]
    }
   ],
   "source": [
    "with open('student.csv', 'r', encoding='utf-8') as file:\n",
    "    content_list = file.readlines()  # 直接讀取成list\n",
    "    content_list = [line.strip() for line in content_list]  # 去除每行末尾的換行符\n",
    "    print(content_list)"
   ]
  },
  {
   "cell_type": "code",
   "execution_count": 14,
   "metadata": {},
   "outputs": [
    {
     "name": "stdout",
     "output_type": "stream",
     "text": [
      "['name,chinese,english,math,history,health', 'student1,55,79,74,76,62', 'student2,84,93,61,57,81', 'student3,96,63,77,65,94', 'student4,65,93,61,68,99', 'student5,90,61,67,60,57', 'student6,62,74,72,93,55', 'student7,72,54,84,85,65', 'student8,94,75,60,62,80', 'student9,91,95,52,92,56', 'student10,69,94,64,76,100', 'student11,59,51,65,78,68', 'student12,100,78,53,98,57', 'student13,88,54,73,79,89', 'student14,93,56,95,54,89', 'student15,93,66,53,67,87', 'student16,64,68,88,92,95', 'student17,80,84,61,73,79', 'student18,70,95,72,70,92', 'student19,87,50,92,50,95', 'student20,73,65,52,61,79', 'student21,94,66,71,61,99', 'student22,88,96,84,62,60', 'student23,59,70,82,76,59', 'student24,68,90,62,60,90', 'student25,72,57,53,68,70', 'student26,61,82,76,60,89', 'student27,72,91,71,73,66', 'student28,82,62,100,70,88', 'student29,68,91,70,72,99', 'student30,73,85,95,50,80', 'student31,59,99,80,57,85', 'student32,53,99,81,86,100', 'student33,60,82,65,77,99', 'student34,68,84,67,52,59', 'student35,63,86,82,79,58', 'student36,55,78,64,87,66', 'student37,100,71,99,59,88', 'student38,71,89,74,60,73', 'student39,62,64,57,88,77', 'student40,63,77,94,94,72', 'student41,73,96,64,50,77', 'student42,89,84,98,82,74', 'student43,78,85,80,88,85', 'student44,50,82,52,98,70', 'student45,69,96,75,68,71', 'student46,80,95,87,96,86', 'student47,85,99,67,73,91', 'student48,84,55,88,77,100', 'student49,61,61,52,54,51', 'student50,50,71,53,61,82']\n"
     ]
    }
   ],
   "source": [
    "with open('student.csv', 'r', encoding='utf-8') as file:\n",
    "    content = file.read()\n",
    "    content_list = content.splitlines()  # 將內容分行成list\n",
    "    print(content_list)"
   ]
  },
  {
   "cell_type": "code",
   "execution_count": null,
   "metadata": {},
   "outputs": [
    {
     "ename": "KeyError",
     "evalue": "0",
     "output_type": "error",
     "traceback": [
      "\u001b[1;31m---------------------------------------------------------------------------\u001b[0m",
      "\u001b[1;31mKeyError\u001b[0m                                  Traceback (most recent call last)",
      "Cell \u001b[1;32mIn[34], line 10\u001b[0m\n\u001b[0;32m      7\u001b[0m content_list \u001b[38;5;241m=\u001b[39m \u001b[38;5;28mlist\u001b[39m(csv_reader)\n\u001b[0;32m      9\u001b[0m \u001b[38;5;28;01mfor\u001b[39;00m row \u001b[38;5;129;01min\u001b[39;00m content_list:\n\u001b[1;32m---> 10\u001b[0m     \u001b[38;5;28;01mif\u001b[39;00m row[\u001b[38;5;241m0\u001b[39m] \u001b[38;5;241m==\u001b[39m \u001b[38;5;124m'\u001b[39m\u001b[38;5;124mstudent30\u001b[39m\u001b[38;5;124m'\u001b[39m:\n\u001b[0;32m     11\u001b[0m         \u001b[38;5;28mprint\u001b[39m(row)\n",
      "\u001b[1;31mKeyError\u001b[0m: 0"
     ]
    }
   ],
   "source": [
    "import csv\n",
    "\n",
    "with open('student.csv', 'r', encoding='utf-8') as file:\n",
    "    csv_reader = csv.reader(file)\n",
    "    next(csv_reader)  # 跳過第一行\n",
    "\n",
    "    content_list = list(csv_reader)\n",
    "    \n",
    "    for row in content_list:\n",
    "        if row[0] == 'student30':\n",
    "            print(row)\n",
    "     \n",
    "        "
   ]
  },
  {
   "cell_type": "code",
   "execution_count": null,
   "metadata": {},
   "outputs": [
    {
     "name": "stdout",
     "output_type": "stream",
     "text": [
      "['student20', '73', '65', '52', '61', '79']\n"
     ]
    }
   ],
   "source": [
    "import csv\n",
    "\n",
    "with open('student.csv', 'r', encoding='utf-8') as file:\n",
    "    csv_reader = csv.reader(file)\n",
    "    next(csv_reader)  # 跳過標題行\n",
    "    \n",
    "    content_list = list(csv_reader)\n",
    "\n",
    "    \n",
    "    # 印出第20筆資料 (索引為19)\n",
    "    if len(content_list) >= 20:\n",
    "        print(content_list[19])  # 因為索引從0開始，所以第20筆是索引19\n",
    "    else:\n",
    "        print(\"資料筆數不足20筆\")\n",
    "\n"
   ]
  },
  {
   "cell_type": "code",
   "execution_count": 33,
   "metadata": {},
   "outputs": [
    {
     "name": "stdout",
     "output_type": "stream",
     "text": [
      "{'name': 'student1', 'chinese': '55', 'english': '79', 'math': '74', 'history': '76', 'health': '62'}\n",
      "{'name': 'student2', 'chinese': '84', 'english': '93', 'math': '61', 'history': '57', 'health': '81'}\n",
      "{'name': 'student3', 'chinese': '96', 'english': '63', 'math': '77', 'history': '65', 'health': '94'}\n",
      "{'name': 'student4', 'chinese': '65', 'english': '93', 'math': '61', 'history': '68', 'health': '99'}\n",
      "{'name': 'student5', 'chinese': '90', 'english': '61', 'math': '67', 'history': '60', 'health': '57'}\n",
      "{'name': 'student6', 'chinese': '62', 'english': '74', 'math': '72', 'history': '93', 'health': '55'}\n",
      "{'name': 'student7', 'chinese': '72', 'english': '54', 'math': '84', 'history': '85', 'health': '65'}\n",
      "{'name': 'student8', 'chinese': '94', 'english': '75', 'math': '60', 'history': '62', 'health': '80'}\n",
      "{'name': 'student9', 'chinese': '91', 'english': '95', 'math': '52', 'history': '92', 'health': '56'}\n",
      "{'name': 'student10', 'chinese': '69', 'english': '94', 'math': '64', 'history': '76', 'health': '100'}\n",
      "{'name': 'student11', 'chinese': '59', 'english': '51', 'math': '65', 'history': '78', 'health': '68'}\n",
      "{'name': 'student12', 'chinese': '100', 'english': '78', 'math': '53', 'history': '98', 'health': '57'}\n",
      "{'name': 'student13', 'chinese': '88', 'english': '54', 'math': '73', 'history': '79', 'health': '89'}\n",
      "{'name': 'student14', 'chinese': '93', 'english': '56', 'math': '95', 'history': '54', 'health': '89'}\n",
      "{'name': 'student15', 'chinese': '93', 'english': '66', 'math': '53', 'history': '67', 'health': '87'}\n",
      "{'name': 'student16', 'chinese': '64', 'english': '68', 'math': '88', 'history': '92', 'health': '95'}\n",
      "{'name': 'student17', 'chinese': '80', 'english': '84', 'math': '61', 'history': '73', 'health': '79'}\n",
      "{'name': 'student18', 'chinese': '70', 'english': '95', 'math': '72', 'history': '70', 'health': '92'}\n",
      "{'name': 'student19', 'chinese': '87', 'english': '50', 'math': '92', 'history': '50', 'health': '95'}\n",
      "{'name': 'student20', 'chinese': '73', 'english': '65', 'math': '52', 'history': '61', 'health': '79'}\n",
      "{'name': 'student21', 'chinese': '94', 'english': '66', 'math': '71', 'history': '61', 'health': '99'}\n",
      "{'name': 'student22', 'chinese': '88', 'english': '96', 'math': '84', 'history': '62', 'health': '60'}\n",
      "{'name': 'student23', 'chinese': '59', 'english': '70', 'math': '82', 'history': '76', 'health': '59'}\n",
      "{'name': 'student24', 'chinese': '68', 'english': '90', 'math': '62', 'history': '60', 'health': '90'}\n",
      "{'name': 'student25', 'chinese': '72', 'english': '57', 'math': '53', 'history': '68', 'health': '70'}\n",
      "{'name': 'student26', 'chinese': '61', 'english': '82', 'math': '76', 'history': '60', 'health': '89'}\n",
      "{'name': 'student27', 'chinese': '72', 'english': '91', 'math': '71', 'history': '73', 'health': '66'}\n",
      "{'name': 'student28', 'chinese': '82', 'english': '62', 'math': '100', 'history': '70', 'health': '88'}\n",
      "{'name': 'student29', 'chinese': '68', 'english': '91', 'math': '70', 'history': '72', 'health': '99'}\n",
      "{'name': 'student30', 'chinese': '73', 'english': '85', 'math': '95', 'history': '50', 'health': '80'}\n",
      "{'name': 'student31', 'chinese': '59', 'english': '99', 'math': '80', 'history': '57', 'health': '85'}\n",
      "{'name': 'student32', 'chinese': '53', 'english': '99', 'math': '81', 'history': '86', 'health': '100'}\n",
      "{'name': 'student33', 'chinese': '60', 'english': '82', 'math': '65', 'history': '77', 'health': '99'}\n",
      "{'name': 'student34', 'chinese': '68', 'english': '84', 'math': '67', 'history': '52', 'health': '59'}\n",
      "{'name': 'student35', 'chinese': '63', 'english': '86', 'math': '82', 'history': '79', 'health': '58'}\n",
      "{'name': 'student36', 'chinese': '55', 'english': '78', 'math': '64', 'history': '87', 'health': '66'}\n",
      "{'name': 'student37', 'chinese': '100', 'english': '71', 'math': '99', 'history': '59', 'health': '88'}\n",
      "{'name': 'student38', 'chinese': '71', 'english': '89', 'math': '74', 'history': '60', 'health': '73'}\n",
      "{'name': 'student39', 'chinese': '62', 'english': '64', 'math': '57', 'history': '88', 'health': '77'}\n",
      "{'name': 'student40', 'chinese': '63', 'english': '77', 'math': '94', 'history': '94', 'health': '72'}\n",
      "{'name': 'student41', 'chinese': '73', 'english': '96', 'math': '64', 'history': '50', 'health': '77'}\n",
      "{'name': 'student42', 'chinese': '89', 'english': '84', 'math': '98', 'history': '82', 'health': '74'}\n",
      "{'name': 'student43', 'chinese': '78', 'english': '85', 'math': '80', 'history': '88', 'health': '85'}\n",
      "{'name': 'student44', 'chinese': '50', 'english': '82', 'math': '52', 'history': '98', 'health': '70'}\n",
      "{'name': 'student45', 'chinese': '69', 'english': '96', 'math': '75', 'history': '68', 'health': '71'}\n",
      "{'name': 'student46', 'chinese': '80', 'english': '95', 'math': '87', 'history': '96', 'health': '86'}\n",
      "{'name': 'student47', 'chinese': '85', 'english': '99', 'math': '67', 'history': '73', 'health': '91'}\n",
      "{'name': 'student48', 'chinese': '84', 'english': '55', 'math': '88', 'history': '77', 'health': '100'}\n",
      "{'name': 'student49', 'chinese': '61', 'english': '61', 'math': '52', 'history': '54', 'health': '51'}\n",
      "{'name': 'student50', 'chinese': '50', 'english': '71', 'math': '53', 'history': '61', 'health': '82'}\n"
     ]
    }
   ],
   "source": [
    "import csv\n",
    "\n",
    "with open('student.csv', 'r', encoding='utf-8') as file:\n",
    "    # 使用 DictReader 來讀取 CSV 檔案\n",
    "    csv_dict_reader = csv.DictReader(file)\n",
    "    \n",
    "    # 將資料轉換為字典列表\n",
    "    students_list = list(csv_dict_reader)\n",
    "    \n",
    "    # 印出所有資料\n",
    "    for student in students_list:\n",
    "        print(student)"
   ]
  }
 ],
 "metadata": {
  "kernelspec": {
   "display_name": "Python 3",
   "language": "python",
   "name": "python3"
  },
  "language_info": {
   "codemirror_mode": {
    "name": "ipython",
    "version": 3
   },
   "file_extension": ".py",
   "mimetype": "text/x-python",
   "name": "python",
   "nbconvert_exporter": "python",
   "pygments_lexer": "ipython3",
   "version": "3.12.7"
  }
 },
 "nbformat": 4,
 "nbformat_minor": 2
}
